{
 "cells": [
  {
   "cell_type": "code",
   "execution_count": 18,
   "metadata": {},
   "outputs": [
    {
     "name": "stdout",
     "output_type": "stream",
     "text": [
      "Requirement already satisfied: kafka-python in /home/vmadmin/anaconda3/lib/python3.8/site-packages (2.0.2)\n"
     ]
    }
   ],
   "source": [
    "%%bash\n",
    "pip install kafka-python"
   ]
  },
  {
   "cell_type": "code",
   "execution_count": 19,
   "metadata": {},
   "outputs": [],
   "source": [
    "from kafka import KafkaConsumer\n",
    "import json\n",
    "import re\n",
    "from datetime import datetime\n",
    "import pickle\n",
    "import csv\n",
    "import numpy as np"
   ]
  },
  {
   "cell_type": "code",
   "execution_count": 20,
   "metadata": {},
   "outputs": [],
   "source": [
    "consumer = KafkaConsumer(\n",
    "    bootstrap_servers='localhost:9092',\n",
    "    auto_offset_reset='earliest',\n",
    "    value_deserializer=lambda m: json.loads(m.decode('ascii','ignore'))\n",
    ")"
   ]
  },
  {
   "cell_type": "code",
   "execution_count": 21,
   "metadata": {},
   "outputs": [],
   "source": [
    "consumer.subscribe('jaeger-spans')\n",
    "f = open('log_prediction_vr.csv', 'a', encoding='utf-8')\n",
    "header_writer = csv.writer(f)\n",
    "header_writer.writerow([\"Date\",\"Time\",\"Duration\",\"Comment\",\"PredictedLabel\"])\n",
    "f.close()"
   ]
  },
  {
   "cell_type": "code",
   "execution_count": 22,
   "metadata": {},
   "outputs": [],
   "source": [
    "# load svm model from folder\n",
    "filename = 'svm_model_vr'\n",
    "svm_model = pickle.load(open(filename, 'rb'))"
   ]
  },
  {
   "cell_type": "code",
   "execution_count": 23,
   "metadata": {},
   "outputs": [],
   "source": [
    "# load xgb model from folder\n",
    "filename2 = 'xgb_model_vr'\n",
    "xgb_model = pickle.load(open(filename2, 'rb'))"
   ]
  },
  {
   "cell_type": "code",
   "execution_count": 24,
   "metadata": {},
   "outputs": [],
   "source": [
    "# load logreg model from folder\n",
    "filename3 = 'logreg_model_vr'\n",
    "logreg_model = pickle.load(open(filename3, 'rb'))"
   ]
  },
  {
   "cell_type": "code",
   "execution_count": 25,
   "metadata": {},
   "outputs": [],
   "source": [
    "# load dt model from folder\n",
    "filename4 = 'dt_model_vr'\n",
    "dt_model = pickle.load(open(filename4, 'rb'))"
   ]
  },
  {
   "cell_type": "code",
   "execution_count": 26,
   "metadata": {},
   "outputs": [],
   "source": [
    "# load knn model from folder\n",
    "filename5 = 'knn_model_vr'\n",
    "knn_model = pickle.load(open(filename5, 'rb'))"
   ]
  },
  {
   "cell_type": "code",
   "execution_count": 27,
   "metadata": {},
   "outputs": [],
   "source": [
    "#load scaler\n",
    "filename_scaler = 'scaler.sav'\n",
    "scaler = pickle.load(open(filename_scaler,'rb'))"
   ]
  },
  {
   "cell_type": "code",
   "execution_count": 28,
   "metadata": {},
   "outputs": [],
   "source": [
    "#Custom vectorizer helper functions\n",
    "def lowercase_convert(comment):\n",
    "    return comment.lower()\n",
    "\n",
    "def count_equal(comment):\n",
    "    total_words = 0\n",
    "    total = 0\n",
    "    for i in comment:\n",
    "        total_words+=1\n",
    "        if i==\"=\":\n",
    "            total+=1\n",
    "    return total/total_words\n",
    "\n",
    "def count_openbracket(comment):\n",
    "    total_words = 0\n",
    "    total = 0\n",
    "    for i in comment:\n",
    "        total_words+=1\n",
    "        if i==\"<\":\n",
    "            total+=1\n",
    "    return total/total_words\n",
    "\n",
    "def count_closebracket(comment):\n",
    "    total_words = 0\n",
    "    total = 0\n",
    "    for i in comment:\n",
    "        total_words+=1\n",
    "        if i==\">\":\n",
    "            total+=1\n",
    "    return total/total_words\n",
    "\n",
    "def count_openbracket2(comment):\n",
    "    total_words = 0\n",
    "    total = 0\n",
    "    for i in comment:\n",
    "        total_words+=1\n",
    "        if i==\"(\":\n",
    "            total+=1\n",
    "    return total/total_words\n",
    "\n",
    "def count_closebracket2(comment):\n",
    "    total_words = 0\n",
    "    total = 0\n",
    "    for i in comment:\n",
    "        total_words+=1\n",
    "        if i==\")\":\n",
    "            total+=1\n",
    "    return total/total_words\n",
    "\n",
    "def count_int(comment):\n",
    "    total_words = 0\n",
    "    total = 0\n",
    "    for i in comment:\n",
    "        total_words+=1\n",
    "        if i.isdigit():\n",
    "            total+=1\n",
    "    return total/total_words\n",
    "\n",
    "def count_div(comment):\n",
    "    total_words = 0\n",
    "    total = 0\n",
    "    for i in comment:\n",
    "        total_words+=1\n",
    "        if i==\"div\":\n",
    "            total+=1\n",
    "    return total/total_words\n",
    "            \n",
    "def count_at(comment):\n",
    "    total_words = 0\n",
    "    total = 0\n",
    "    for i in comment:\n",
    "        total_words+=1\n",
    "        if i==\"@\":\n",
    "            total+=1\n",
    "    return total/total_words"
   ]
  },
  {
   "cell_type": "code",
   "execution_count": 29,
   "metadata": {},
   "outputs": [],
   "source": [
    "#Function to preprocess sample comments for each model \n",
    "\n",
    "def test_xgb(comment,duration,statuscode):\n",
    "    lowcomment = lowercase_convert(comment)\n",
    "    at = count_at(lowcomment)\n",
    "    equal = count_equal(lowcomment)\n",
    "    openbracket = count_openbracket(lowcomment)\n",
    "    openbracket2 = count_openbracket2(lowcomment)\n",
    "    closebracket = count_closebracket(lowcomment)\n",
    "    closebracket2 = count_closebracket2(lowcomment)\n",
    "    intcount = count_int(lowcomment)\n",
    "    div = count_div(lowcomment)\n",
    "\n",
    "    data_input = np.reshape(np.array([duration,statuscode,0,equal,openbracket,closebracket,openbracket2,closebracket2,intcount,div,at]),(1,11))\n",
    "   \n",
    "\n",
    "    X = scaler.transform(data_input)\n",
    "    #openbracket, openbracket2, equal\n",
    "    final_input = np.delete(X,[0,1,2,5,7,8,9,10],axis=1)\n",
    "    final_input[:,[0,1,2]] = final_input[:,[1,2,0]]\n",
    "   \n",
    "\n",
    "    return xgb_model.predict(final_input)"
   ]
  },
  {
   "cell_type": "code",
   "execution_count": 30,
   "metadata": {},
   "outputs": [],
   "source": [
    "def test_svm(comment,duration,statuscode):\n",
    "    lowcomment = lowercase_convert(comment)\n",
    "    at = count_at(lowcomment)\n",
    "    equal = count_equal(lowcomment)\n",
    "    openbracket = count_openbracket(lowcomment)\n",
    "    openbracket2 = count_openbracket2(lowcomment)\n",
    "    closebracket = count_closebracket(lowcomment)\n",
    "    closebracket2 = count_closebracket2(lowcomment)\n",
    "    intcount = count_int(lowcomment)\n",
    "    div = count_div(lowcomment)\n",
    "\n",
    "    data_input = np.reshape(np.array([duration,statuscode,0,equal,openbracket,closebracket,openbracket2,closebracket2,intcount,div,at]),(1,11))\n",
    "   \n",
    "    X = scaler.transform(data_input)\n",
    "    #openbracket, at ,equal\n",
    "    final_input = np.delete(X,[0,1,2,5,6,7,8,9],axis=1)\n",
    "    final_input[:,[0,1,2]] = final_input[:,[1,2,0]]\n",
    "\n",
    "\n",
    "   \n",
    "\n",
    "    return svm_model.predict(final_input)"
   ]
  },
  {
   "cell_type": "code",
   "execution_count": 31,
   "metadata": {},
   "outputs": [],
   "source": [
    "def test_logreg(comment,duration,statuscode):\n",
    "    lowcomment = lowercase_convert(comment)\n",
    "    at = count_at(lowcomment)\n",
    "    equal = count_equal(lowcomment)\n",
    "    openbracket = count_openbracket(lowcomment)\n",
    "    openbracket2 = count_openbracket2(lowcomment)\n",
    "    closebracket = count_closebracket(lowcomment)\n",
    "    closebracket2 = count_closebracket2(lowcomment)\n",
    "    intcount = count_int(lowcomment)\n",
    "    div = count_div(lowcomment)\n",
    "\n",
    "    data_input = np.reshape(np.array([duration,statuscode,0,equal,openbracket,closebracket,openbracket2,closebracket2,intcount,div,at]),(1,11))\n",
    "   \n",
    "    X = scaler.transform(data_input)\n",
    "    #closebracket2,openbracket2,equal\n",
    "    final_input = np.delete(X,[0,1,2,4,5,8,9,10],axis=1)\n",
    "    final_input[:,[0,1,2]] = final_input[:,[2,1,0]]\n",
    "    \n",
    "    return logreg_model.predict(final_input)"
   ]
  },
  {
   "cell_type": "code",
   "execution_count": 32,
   "metadata": {},
   "outputs": [],
   "source": [
    "def test_dt(comment,duration,statuscode):\n",
    "    lowcomment = lowercase_convert(comment)\n",
    "    at = count_at(lowcomment)\n",
    "    equal = count_equal(lowcomment)\n",
    "    openbracket = count_openbracket(lowcomment)\n",
    "    openbracket2 = count_openbracket2(lowcomment)\n",
    "    closebracket = count_closebracket(lowcomment)\n",
    "    closebracket2 = count_closebracket2(lowcomment)\n",
    "    intcount = count_int(lowcomment)\n",
    "    div = count_div(lowcomment)\n",
    "\n",
    "    data_input = np.reshape(np.array([duration,statuscode,0,equal,openbracket,closebracket,openbracket2,closebracket2,intcount,div,at]),(1,11))\n",
    "   \n",
    "    X = scaler.transform(data_input)\n",
    "    #duration, closebracket2, equal\n",
    "    final_input = np.delete(X,[1,2,4,5,6,8,9,10],axis=1)\n",
    "    final_input[:,[0,1,2]] = final_input[:,[0,2,1]]\n",
    "\n",
    "    return dt_model.predict(final_input)"
   ]
  },
  {
   "cell_type": "code",
   "execution_count": 33,
   "metadata": {},
   "outputs": [],
   "source": [
    "def test_knn(comment,duration,statuscode):\n",
    "    lowcomment = lowercase_convert(comment)\n",
    "    at = count_at(lowcomment)\n",
    "    equal = count_equal(lowcomment)\n",
    "    openbracket = count_openbracket(lowcomment)\n",
    "    openbracket2 = count_openbracket2(lowcomment)\n",
    "    closebracket = count_closebracket(lowcomment)\n",
    "    closebracket2 = count_closebracket2(lowcomment)\n",
    "    intcount = count_int(lowcomment)\n",
    "    div = count_div(lowcomment)\n",
    "\n",
    "    data_input = np.reshape(np.array([duration,statuscode,0,equal,openbracket,closebracket,openbracket2,closebracket2,intcount,div,at]),(1,11))\n",
    "   \n",
    "    X = scaler.transform(data_input)\n",
    "    #closebracket2,at, equal\n",
    "    final_input = np.delete(X,[0,1,2,4,5,6,8,9],axis=1)\n",
    "    final_input[:,[0,1,2]] = final_input[:,[1,2,0]]\n",
    "\n",
    "    return knn_model.predict(final_input)"
   ]
  },
  {
   "cell_type": "code",
   "execution_count": 34,
   "metadata": {},
   "outputs": [],
   "source": [
    "#Function to determine most common value in an array\n",
    "def most_frequent(List):\n",
    "    counter = 0\n",
    "    num = List[0]\n",
    "     \n",
    "    for i in List:\n",
    "        curr_frequency = List.count(i)\n",
    "        if(curr_frequency> counter):\n",
    "            counter = curr_frequency\n",
    "            num = i\n",
    " \n",
    "    return num"
   ]
  },
  {
   "cell_type": "code",
   "execution_count": 35,
   "metadata": {},
   "outputs": [
    {
     "name": "stdout",
     "output_type": "stream",
     "text": [
      "[0.0, 0.0, 0.0, 0.0, 0.0]\n",
      "1 2021-09-22 14:22:05 0.142700 I love this movie. I will watch it again later!  - Normal Comment\n",
      "[1.0, 1.0, 0.0, 1.0, 1.0]\n",
      "2 2021-09-22 14:22:35 0.038200100 <br>@keyframes x{}</br><title style=\\\\\\\\\\\\\\\\\\\\\"\\\\\"animation-name:y\\\\\\\\\\\\\\\\\\\\\"\\\\\" onanimationend=\\\\\\\\\\\\\\\\\\\\\"\\\\\"alert(111)\\\\\\\\\\\\\\\\\\\\\"\\\\\"></br>  - Anomalous Comment\n"
     ]
    }
   ],
   "source": [
    "counter = 1\n",
    "\n",
    "for message in consumer:\n",
    "    # message value and key are raw bytes -- decode if necessary!\n",
    "    # e.g., for unicode: `message.value.decode('utf-8')`\n",
    "    # print (\"%s:%d:%d: key=%s value=%s\" % (message.topic, message.partition, message.offset, message.key, message.value))\n",
    "    \n",
    "    if message.value['process']['serviceName'] == 'frontend':\n",
    "        \n",
    "        # open the file in the append mode\n",
    "        f1 = open('log_prediction_vr.csv', 'a', encoding='utf-8')\n",
    "        # create the csv writer\n",
    "        writer = csv.writer(f1)\n",
    "                \n",
    "        http_method = re.findall(r\"{'key': 'http\\.method', 'vStr': '(.+?)'}\",str(message.value))\n",
    "        http_target = re.findall(r\"{'key': 'http\\.target', 'vStr': '(.+?)'}\",str(message.value))\n",
    "        http_status_code = re.findall(r\"{'key': 'http\\.status_code', 'vType': '.*?', 'vInt64': '(\\d+)'}\",str(message.value))\n",
    "        http_url = re.findall(r\"{'key': 'http\\.url', 'vStr': '(.+?)'}\",str(message.value))\n",
    "        duration = re.findall(r\"(.+?)s\",str(message.value['duration']))\n",
    "        \n",
    "        if len(http_method) > 0:\n",
    "            http_method = http_method[0]\n",
    "        if len(http_target) > 0:\n",
    "            http_target = http_target[0]\n",
    "        if len(http_url) > 0:\n",
    "            http_url = http_url[0]\n",
    "        if len(http_status_code) > 0:\n",
    "            http_status_code = http_status_code[0]\n",
    "        if len(duration) > 0:\n",
    "            duration = duration[0]\n",
    "        \n",
    "        if http_method == 'POST':\n",
    "            if \"comment\" in http_url:\n",
    "                comment = \"\"\n",
    "                fields = message.value['logs'][0]['fields']\n",
    "                description1 = re.findall(r\"{'key': 'body', 'vStr': '(.+?)'}\",str(fields))\n",
    "                if len(description1) > 0:\n",
    "                    temp = re.findall(r'\"description\":\"(.+?)\",\"_links\":',str(description1[0]))\n",
    "                    if len(temp) > 0:\n",
    "                        comment = temp[0]\n",
    "\n",
    "                data = [duration,comment]\n",
    "\n",
    "\n",
    "                # PREDICTION\n",
    "                duration = data[0]\n",
    "                comment_orig = data[1]\n",
    "                \n",
    "                data_predxgb = test_xgb(comment_orig,duration,201)\n",
    "                data_predsvm = test_svm(comment_orig,duration,201)\n",
    "                data_predlogreg = test_logreg(comment_orig,duration,201)\n",
    "                data_preddt= test_dt(comment_orig,duration,201)\n",
    "                data_predknn = test_knn(comment_orig,duration,201)\n",
    "\n",
    "                # COMPARING PREDICTIONS\n",
    "                all_predictions = [data_predxgb[0],data_predsvm[0],data_predlogreg[0],data_preddt[0],data_predknn[0]]\n",
    "                print(all_predictions)\n",
    "                resultvalue = most_frequent(all_predictions)\n",
    "\n",
    "                # DISPLAY RESULTS\n",
    "                if (resultvalue==0.0):\n",
    "                    result = \" - Normal Comment\"\n",
    "                else:\n",
    "                    result = \" - Anomalous Comment\"\n",
    "\n",
    "                date = datetime.now().strftime('%Y-%m-%d')\n",
    "                time = datetime.now().strftime('%H:%M:%S')\n",
    "                print(counter, date, time, duration, comment_orig, result)\n",
    "\n",
    "                log_prediction = [date,time,duration,comment_orig,result]\n",
    "                # write a row to the csv file\n",
    "                writer.writerow(log_prediction)\n",
    "                counter = counter + 1\n"
   ]
  },
  {
   "cell_type": "markdown",
   "metadata": {},
   "source": []
  }
 ],
 "metadata": {
  "interpreter": {
   "hash": "fe839728e6eea2df4a92563fe0538bf099408b3004c5648c751a0b4ef33d3196"
  },
  "kernelspec": {
   "display_name": "Python 3.8.8 64-bit ('base': conda)",
   "name": "python3"
  },
  "language_info": {
   "codemirror_mode": {
    "name": "ipython",
    "version": 3
   },
   "file_extension": ".py",
   "mimetype": "text/x-python",
   "name": "python",
   "nbconvert_exporter": "python",
   "pygments_lexer": "ipython3",
   "version": "3.8.8"
  },
  "orig_nbformat": 4
 },
 "nbformat": 4,
 "nbformat_minor": 2
}