{
 "cells": [
  {
   "cell_type": "code",
   "execution_count": null,
   "metadata": {},
   "outputs": [],
   "source": [
    "from kafka import KafkaConsumer\n",
    "from kafka import KafkaProducer\n",
    "import json\n",
    "import numpy as np\n",
    "import csv\n"
   ]
  },
  {
   "cell_type": "code",
   "execution_count": null,
   "metadata": {},
   "outputs": [],
   "source": [
    "consumer = KafkaConsumer(\n",
    "    bootstrap_servers='localhost:9092',\n",
    "    auto_offset_reset='latest',\n",
    "    value_deserializer=lambda m: json.loads(m)\n",
    ")\n",
    "consumer.subscribe('predicted_normal_1')"
   ]
  },
  {
   "cell_type": "code",
   "execution_count": null,
   "metadata": {},
   "outputs": [
    {
     "name": "stdout",
     "output_type": "stream",
     "text": [
      "ConsumerRecord(topic='predicted_normal_1', partition=0, offset=29, timestamp=1631815037025, timestamp_type=0, key=None, value={'schema': {'type': 'struct', 'optional': False, 'version': 1, 'fields': [{'field': 'spanId', 'type': 'string', 'optional': True}, {'field': 'movieId', 'type': 'string', 'optional': True}, {'field': 'userId', 'type': 'string', 'optional': True}, {'field': 'comment', 'type': 'string', 'optional': True}, {'field': 'status', 'type': 'string', 'optional': True}]}, 'payload': {'spanId': 'R2koR8rb+I8=', 'movieId': '2', 'userId': '0', 'comment': 'wsfwefw', 'status': 'normal'}}, headers=[], checksum=None, serialized_key_size=-1, serialized_value_size=474, serialized_header_size=-1)\n"
     ]
    }
   ],
   "source": [
    "for message in consumer:\n",
    "    print(message)"
   ]
  },
  {
   "cell_type": "code",
   "execution_count": null,
   "metadata": {},
   "outputs": [],
   "source": []
  }
 ],
 "metadata": {
  "kernelspec": {
   "display_name": "Python 3",
   "language": "python",
   "name": "python3"
  },
  "language_info": {
   "codemirror_mode": {
    "name": "ipython",
    "version": 3
   },
   "file_extension": ".py",
   "mimetype": "text/x-python",
   "name": "python",
   "nbconvert_exporter": "python",
   "pygments_lexer": "ipython3",
   "version": "3.7.6"
  }
 },
 "nbformat": 4,
 "nbformat_minor": 4
}
