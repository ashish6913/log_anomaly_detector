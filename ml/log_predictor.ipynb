{
 "cells": [
  {
   "cell_type": "code",
   "execution_count": null,
   "id": "3dc48785-10fd-415d-bc95-e3d40d148073",
   "metadata": {},
   "outputs": [],
   "source": [
    "%%bash\n",
    "pip install kafka-python"
   ]
  },
  {
   "cell_type": "code",
   "execution_count": null,
   "id": "060680c2-557b-4e3c-8041-984a81be4078",
   "metadata": {},
   "outputs": [],
   "source": [
    "from kafka import KafkaConsumer, KafkaProducer\n",
    "import json\n",
    "import re\n",
    "from datetime import datetime\n",
    "import nltk\n",
    "import pickle\n",
    "from nltk.corpus import stopwords\n",
    "import csv\n",
    "from sklearn.feature_extraction.text import TfidfVectorizer\n",
    "import numpy as np\n",
    "from nltk.stem import WordNetLemmatizer"
   ]
  },
  {
   "cell_type": "code",
   "execution_count": null,
   "id": "e204211f-3587-4321-9d1b-b3c81634142c",
   "metadata": {},
   "outputs": [],
   "source": [
    "consumer = KafkaConsumer(\n",
    "    bootstrap_servers='kafka-cluster-kafka-bootstrap.kafka-cluster-project.svc.cluster.local:9092',\n",
    "    auto_offset_reset='latest',\n",
    "    value_deserializer=lambda m: json.loads(m.decode('ascii','ignore'))\n",
    ")"
   ]
  },
  {
   "cell_type": "code",
   "execution_count": null,
   "id": "5e31571e-c932-4d4c-b77a-23ba53e812ec",
   "metadata": {},
   "outputs": [],
   "source": [
    "import json\n",
    "from json import JSONEncoder\n",
    "import numpy\n",
    "\n",
    "class NumpyArrayEncoder(JSONEncoder):\n",
    "    def default(self, obj):\n",
    "        if isinstance(obj, numpy.ndarray):\n",
    "            return obj.tolist()\n",
    "        return JSONEncoder.default(self, obj)\n"
   ]
  },
  {
   "cell_type": "code",
   "execution_count": null,
   "id": "869b6463-eca8-4474-833a-766f9a57d099",
   "metadata": {},
   "outputs": [],
   "source": [
    "producer2 = KafkaProducer(bootstrap_servers='kafka-cluster-kafka-bootstrap.kafka-cluster-project.svc.cluster.local:9092',value_serializer=lambda v: json.dumps(v, cls=NumpyArrayEncoder).encode('utf-8'))"
   ]
  },
  {
   "cell_type": "code",
   "execution_count": null,
   "id": "4e1331f3-873f-450b-8833-b8bca5b60847",
   "metadata": {},
   "outputs": [],
   "source": [
    "consumer.subscribe('data_to_predict')"
   ]
  },
  {
   "cell_type": "code",
   "execution_count": null,
   "id": "99efc527-3fe2-4a6e-98ce-978861daa9c3",
   "metadata": {},
   "outputs": [],
   "source": [
    "counter = 1\n",
    "\n",
    "with open('classifier', 'rb') as model:\n",
    "    classifier = pickle.load(model)\n",
    "\n",
    "for message in consumer:\n",
    "    \n",
    "    data = np.asarray(message.value[\"array\"])\n",
    "    result=classifier.predict(data)\n",
    "    final_comment = {\n",
    "\n",
    "    \"schema\": {\n",
    "        \"type\": \"struct\",\n",
    "        \"optional\": False,\n",
    "        \"version\": 1,\n",
    "        \"fields\": [\n",
    "            {\n",
    "                \"field\": \"spanid\",\n",
    "                \"type\": \"string\",\n",
    "                \"optional\": True\n",
    "            },\n",
    "            {\n",
    "                \"field\": \"movieid\",\n",
    "                \"type\": \"string\",\n",
    "                \"optional\": True\n",
    "            },\n",
    "            {\n",
    "                \"field\": \"userid\",\n",
    "                \"type\": \"string\",\n",
    "                \"optional\": True\n",
    "            },\n",
    "            {\n",
    "                \"field\": \"comment\",\n",
    "                \"type\": \"string\",\n",
    "                \"optional\": True\n",
    "            },\n",
    "            {\n",
    "                \"field\": \"status\",\n",
    "                \"type\": \"string\",\n",
    "                \"optional\": True\n",
    "            },\n",
    "            {\n",
    "                \"field\": \"comment_date\",\n",
    "                \"type\": \"string\",\n",
    "                \"optional\": True\n",
    "            }\n",
    "        ]\n",
    "    },\n",
    "    \"payload\": {\n",
    "        \"spanid\": message.value['spanId'],\n",
    "        \"movieid\": message.value['movieId'],\n",
    "        \"userid\": message.value['userId'],\n",
    "        \"comment\": message.value[\"comment\"],\n",
    "        \"comment_date\": message.value[\"comment_date\"]   \n",
    "    }\n",
    "\n",
    "    }\n",
    "    \n",
    "    result = int(result[0])\n",
    "    \n",
    "    if result==0:\n",
    "        final_comment['payload']['status'] = 'normal'\n",
    "        producer2.send('predicted_normal_1',final_comment)\n",
    "        print(\"This looks safe\")\n",
    "    elif result==1:\n",
    "        final_comment['payload']['status'] = 'anomolous'\n",
    "        producer2.send('predicted_normal_1',final_comment)\n",
    "        \n",
    "        # Send email notification\n",
    "        comment = final_comment['payload']['comment']\n",
    "        comment_date = final_comment['payload']['comment_date']\n",
    "        span_id = final_comment['payload']['spanid']\n",
    "        movie_id = final_comment['payload']['movieid']\n",
    "        user_id = final_comment['payload']['userid']\n",
    "        \n",
    "        # Please enter corresponding values\n",
    "        email_address = \"WRITE EMAIL HERE\"\n",
    "        api_key = \"WRITE API KEY HERE\"\n",
    "\n",
    "        endpoint = \"https://api.notification.canada.ca/v2/notifications/email\"\n",
    "        data = {\"email_address\": email_address,\"template_id\": \"2abfdd23-e228-45a7-8872-8dc6c320faf2\", \"personalisation\": {\n",
    "          \"comment\": comment, \"comment_date\": comment_date, \"span_id\": span_id, \"movie_id\": movie_id, \"user_id\": user_id}}\n",
    "        headers = {\"Authorization\": api_key, \"Content-Type\": \"application/json\"}\n",
    "        # print(requests.post(endpoint, data=json.dumps(data), headers=headers).json())\n",
    "        \n",
    "        print(\"This can be Anomolous\")\n",
    "        \n",
    "    counter = counter + 1\n"
   ]
  },
  {
   "cell_type": "code",
   "execution_count": null,
   "id": "2c14f283-fa62-4621-b053-471181274c82",
   "metadata": {},
   "outputs": [],
   "source": []
  }
 ],
 "metadata": {
  "kernelspec": {
   "display_name": "Python 3",
   "language": "python",
   "name": "python3"
  },
  "language_info": {
   "codemirror_mode": {
    "name": "ipython",
    "version": 3
   },
   "file_extension": ".py",
   "mimetype": "text/x-python",
   "name": "python",
   "nbconvert_exporter": "python",
   "pygments_lexer": "ipython3",
   "version": "3.8.8"
  }
 },
 "nbformat": 4,
 "nbformat_minor": 5
}
