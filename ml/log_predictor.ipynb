{
 "cells": [
  {
   "cell_type": "code",
   "execution_count": 1,
   "id": "3dc48785-10fd-415d-bc95-e3d40d148073",
   "metadata": {},
   "outputs": [
    {
     "name": "stdout",
     "output_type": "stream",
     "text": [
      "Requirement already satisfied: kafka-python in /home/vmadmin/anaconda3/lib/python3.8/site-packages (2.0.2)\n"
     ]
    }
   ],
   "source": [
    "%%bash\n",
    "pip install kafka-python"
   ]
  },
  {
   "cell_type": "code",
   "execution_count": 2,
   "id": "060680c2-557b-4e3c-8041-984a81be4078",
   "metadata": {},
   "outputs": [],
   "source": [
    "from kafka import KafkaConsumer, KafkaProducer\n",
    "import json\n",
    "import re\n",
    "from datetime import datetime\n",
    "import nltk\n",
    "import pickle\n",
    "from nltk.corpus import stopwords\n",
    "import csv\n",
    "from sklearn.feature_extraction.text import TfidfVectorizer\n",
    "import numpy as np\n",
    "from nltk.stem import WordNetLemmatizer"
   ]
  },
  {
   "cell_type": "code",
   "execution_count": 3,
   "id": "e204211f-3587-4321-9d1b-b3c81634142c",
   "metadata": {},
   "outputs": [],
   "source": [
    "consumer = KafkaConsumer(\n",
    "    bootstrap_servers='localhost:9092',\n",
    "    auto_offset_reset='latest',\n",
    "    value_deserializer=lambda m: json.loads(m.decode('ascii','ignore'))\n",
    ")"
   ]
  },
  {
   "cell_type": "code",
   "execution_count": 4,
   "id": "5e31571e-c932-4d4c-b77a-23ba53e812ec",
   "metadata": {},
   "outputs": [],
   "source": [
    "import json\n",
    "from json import JSONEncoder\n",
    "import numpy\n",
    "\n",
    "class NumpyArrayEncoder(JSONEncoder):\n",
    "    def default(self, obj):\n",
    "        if isinstance(obj, numpy.ndarray):\n",
    "            return obj.tolist()\n",
    "        return JSONEncoder.default(self, obj)\n"
   ]
  },
  {
   "cell_type": "code",
   "execution_count": 5,
   "id": "869b6463-eca8-4474-833a-766f9a57d099",
   "metadata": {},
   "outputs": [],
   "source": [
    "producer2 = KafkaProducer(bootstrap_servers='localhost:9092',value_serializer=lambda v: json.dumps(v, cls=NumpyArrayEncoder).encode('utf-8'))"
   ]
  },
  {
   "cell_type": "code",
   "execution_count": 6,
   "id": "4e1331f3-873f-450b-8833-b8bca5b60847",
   "metadata": {},
   "outputs": [],
   "source": [
    "consumer.subscribe('data_to_predict')"
   ]
  },
  {
   "cell_type": "code",
   "execution_count": null,
   "id": "99efc527-3fe2-4a6e-98ce-978861daa9c3",
   "metadata": {},
   "outputs": [
    {
     "name": "stdout",
     "output_type": "stream",
     "text": [
      "This looks safe\n",
      "This can be Anomolous\n",
      "This looks safe\n",
      "This looks safe\n"
     ]
    }
   ],
   "source": [
    "counter = 1\n",
    "\n",
    "with open('classifier', 'rb') as model:\n",
    "    classifier = pickle.load(model)\n",
    "\n",
    "for message in consumer:\n",
    "    \n",
    "    data = np.asarray(message.value[\"array\"])\n",
    "    result=classifier.predict(data)\n",
    "    final_comment = {\n",
    "\n",
    "    \"schema\": {\n",
    "        \"type\": \"struct\",\n",
    "        \"optional\": False,\n",
    "        \"version\": 1,\n",
    "        \"fields\": [\n",
    "            {\n",
    "                \"field\": \"span_id\",\n",
    "                \"type\": \"string\",\n",
    "                \"optional\": True\n",
    "            },\n",
    "            {\n",
    "                \"field\": \"movie_id\",\n",
    "                \"type\": \"string\",\n",
    "                \"optional\": True\n",
    "            },\n",
    "            {\n",
    "                \"field\": \"user_id\",\n",
    "                \"type\": \"string\",\n",
    "                \"optional\": True\n",
    "            },\n",
    "            {\n",
    "                \"field\": \"comment\",\n",
    "                \"type\": \"string\",\n",
    "                \"optional\": True\n",
    "            },\n",
    "            {\n",
    "                \"field\": \"status\",\n",
    "                \"type\": \"string\",\n",
    "                \"optional\": True\n",
    "            },\n",
    "            {\n",
    "                \"field\": \"comment_date\",\n",
    "                \"type\": \"string\",\n",
    "                \"optional\": True\n",
    "            }\n",
    "        ]\n",
    "    },\n",
    "    \"payload\": {\n",
    "        \"span_id\": message.value['spanId'],\n",
    "        \"movie_id\": message.value['movieId'],\n",
    "        \"user_id\": message.value['userId'],\n",
    "        \"comment\": message.value[\"comment\"],\n",
    "        \"comment_date\": message.value[\"comment_date\"]   \n",
    "    }\n",
    "\n",
    "    }\n",
    "    \n",
    "    if checker <= 3:\n",
    "        dicti = [\"2021-10-25\"]\n",
    "        # random_number = random.randint(0,2)\n",
    "        final_comment['payload']['comment_date'] = dicti[0]\n",
    "        checker = checker + 1\n",
    "    \n",
    "    result = int(result[0])\n",
    "    \n",
    "    if result==0:\n",
    "        final_comment['payload']['status'] = 'normal'\n",
    "        producer2.send('predicted_normal_1',final_comment)\n",
    "        print(\"This looks safe\")\n",
    "    elif result==1:\n",
    "        final_comment['payload']['status'] = 'anomolous'\n",
    "        producer2.send('predicted_normal_1',final_comment)\n",
    "        print(\"This can be Anomolous\")\n",
    "        \n",
    "    counter = counter + 1\n"
   ]
  },
  {
   "cell_type": "code",
   "execution_count": null,
   "id": "2c14f283-fa62-4621-b053-471181274c82",
   "metadata": {},
   "outputs": [],
   "source": []
  }
 ],
 "metadata": {
  "kernelspec": {
   "display_name": "Python 3",
   "language": "python",
   "name": "python3"
  },
  "language_info": {
   "codemirror_mode": {
    "name": "ipython",
    "version": 3
   },
   "file_extension": ".py",
   "mimetype": "text/x-python",
   "name": "python",
   "nbconvert_exporter": "python",
   "pygments_lexer": "ipython3",
   "version": "3.8.8"
  }
 },
 "nbformat": 4,
 "nbformat_minor": 5
}
