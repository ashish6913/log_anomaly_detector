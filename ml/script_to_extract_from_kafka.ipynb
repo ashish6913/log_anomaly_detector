{
 "cells": [
  {
   "cell_type": "code",
   "execution_count": 1,
   "id": "7d367105",
   "metadata": {},
   "outputs": [
    {
     "name": "stdout",
     "output_type": "stream",
     "text": [
      "Requirement already satisfied: kafka-python in /home/vmadmin/anaconda3/lib/python3.8/site-packages (2.0.2)\n"
     ]
    }
   ],
   "source": [
    "%%bash\n",
    "pip install kafka-python"
   ]
  },
  {
   "cell_type": "code",
   "execution_count": 2,
   "id": "3e5d7814",
   "metadata": {},
   "outputs": [],
   "source": [
    "from kafka import KafkaConsumer\n",
    "import json\n",
    "import csv\n",
    "import re"
   ]
  },
  {
   "cell_type": "code",
   "execution_count": 3,
   "id": "d7392bf9",
   "metadata": {},
   "outputs": [],
   "source": [
    "consumer = KafkaConsumer(\n",
    "    bootstrap_servers='localhost:9092',\n",
    "    auto_offset_reset='earliest',\n",
    "    value_deserializer=lambda m: json.loads(m.decode('ascii','ignore'))\n",
    ")\n"
   ]
  },
  {
   "cell_type": "code",
   "execution_count": 4,
   "id": "10d8e5a4",
   "metadata": {},
   "outputs": [],
   "source": [
    "consumer.subscribe('jaeger-spans')\n",
    "f = open('/home/vmadmin/Log/ml/log generation/collected_logs.csv', 'a', encoding='utf-8')\n",
    "header_writer = csv.writer(f)\n",
    "header_writer.writerow([\"duration\",\"http_status_code\",\"comment\"])\n",
    "f.close()"
   ]
  },
  {
   "cell_type": "code",
   "execution_count": null,
   "id": "e4c0f2a7",
   "metadata": {},
   "outputs": [
    {
     "name": "stdout",
     "output_type": "stream",
     "text": [
      "17\n",
      "18\n",
      "19\n",
      "20\n",
      "21\n",
      "22\n",
      "23\n",
      "24\n",
      "25\n",
      "26\n",
      "27\n"
     ]
    }
   ],
   "source": [
    "counter = 1\n",
    "for message in consumer:\n",
    "    # message value and key are raw bytes -- decode if necessary!\n",
    "    # e.g., for unicode: `message.value.decode('utf-8')`\n",
    "    # print (\"%s:%d:%d: key=%s value=%s\" % (message.topic, message.partition, message.offset, message.key, message.value))\n",
    "    \n",
    "    if message.value['process']['serviceName'] == 'frontend':\n",
    "        \n",
    "        # open the file in the append mode\n",
    "        f1 = open('/home/vmadmin/Log/ml/log generation/collected_logs.csv', 'a', encoding='utf-8')\n",
    "        # create the csv writer\n",
    "        writer = csv.writer(f1)\n",
    "        \n",
    "        http_method = re.findall(r\"{'key': 'http\\.method', 'vStr': '(.+?)'}\",str(message.value))\n",
    "        http_target = re.findall(r\"{'key': 'http\\.target', 'vStr': '(.+?)'}\",str(message.value))\n",
    "        http_status_code = re.findall(r\"{'key': 'http\\.status_code', 'vType': '.*?', 'vInt64': '(\\d+)'}\",str(message.value))\n",
    "        http_url = re.findall(r\"{'key': 'http\\.url', 'vStr': '(.+?)'}\",str(message.value))\n",
    "        duration = re.findall(r\"(.+?)s\",str(message.value['duration']))\n",
    "        \n",
    "        if len(http_method) > 0:\n",
    "            http_method = http_method[0]\n",
    "        if len(http_target) > 0:\n",
    "            http_target = http_target[0]\n",
    "        if len(http_url) > 0:\n",
    "            http_url = http_url[0]\n",
    "        if len(http_status_code) > 0:\n",
    "            http_status_code = http_status_code[0]\n",
    "        if len(duration) > 0:\n",
    "            duration = duration[0]\n",
    "        \n",
    "        if http_method == 'POST':\n",
    "            comment = \"\"\n",
    "            fields = message.value['logs'][0]['fields']\n",
    "            description1 = re.findall(r\"{'key': 'body', 'vStr': '(.+?)'}\",str(fields))\n",
    "            if len(description1) > 0:\n",
    "                temp = re.findall(r'\"description\":\"(.+?)\",\"_links\":',str(description1[0]))\n",
    "                if len(temp) > 0:\n",
    "                    comment = temp[0]\n",
    "            \n",
    "            data = [duration,http_status_code,comment]\n",
    "            \n",
    "            # write a row to the csv file\n",
    "            writer.writerow(data)\n",
    "            \n",
    "            print(counter)\n",
    "            counter = counter + 1\n",
    "\n",
    "        # close the file\n",
    "        f1.close()"
   ]
  },
  {
   "cell_type": "code",
   "execution_count": null,
   "id": "96c6e272",
   "metadata": {},
   "outputs": [],
   "source": []
  }
 ],
 "metadata": {
  "kernelspec": {
   "display_name": "Python 3",
   "language": "python",
   "name": "python3"
  },
  "language_info": {
   "codemirror_mode": {
    "name": "ipython",
    "version": 3
   },
   "file_extension": ".py",
   "mimetype": "text/x-python",
   "name": "python",
   "nbconvert_exporter": "python",
   "pygments_lexer": "ipython3",
   "version": "3.8.8"
  }
 },
 "nbformat": 4,
 "nbformat_minor": 5
}
